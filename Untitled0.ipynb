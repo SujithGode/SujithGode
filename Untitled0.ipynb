{
  "nbformat": 4,
  "nbformat_minor": 0,
  "metadata": {
    "colab": {
      "provenance": [],
      "authorship_tag": "ABX9TyPuoDEhFO/d3hfe2EqCT/8Y",
      "include_colab_link": true
    },
    "kernelspec": {
      "name": "python3",
      "display_name": "Python 3"
    },
    "language_info": {
      "name": "python"
    }
  },
  "cells": [
    {
      "cell_type": "markdown",
      "metadata": {
        "id": "view-in-github",
        "colab_type": "text"
      },
      "source": [
        "<a href=\"https://colab.research.google.com/github/SujithGode/SujithGode/blob/master/Untitled0.ipynb\" target=\"_parent\"><img src=\"https://colab.research.google.com/assets/colab-badge.svg\" alt=\"Open In Colab\"/></a>"
      ]
    },
    {
      "cell_type": "code",
      "source": [
        "import numpy as np \n",
        "import matplotlib.pyplot as plt\n",
        "l=100;\n",
        "A=10\n",
        "E= 200*10**9\n",
        "deformation=[]\n",
        "w1=[]\n",
        "for x in np.arange(0,101,0.5): \n",
        "  w= 5*x**2\n",
        "  y= (2*l*x-x**2)*((9*l**2)/(8*A*E))\n",
        "  w1.append(w) \n",
        "  deformation.append(y)\n",
        "\n",
        "deform_1=np.array(deformation)\n",
        "# w1_1=np.array(w1)\n",
        "print(w1)\n",
        "print(deform_1.shape)"
      ],
      "metadata": {
        "colab": {
          "base_uri": "https://localhost:8080/"
        },
        "id": "pHj6M1oMb0zo",
        "outputId": "424bc7ff-15ee-4a40-809d-3be3396a4442"
      },
      "execution_count": 16,
      "outputs": [
        {
          "output_type": "stream",
          "name": "stdout",
          "text": [
            "[0.0, 1.25, 5.0, 11.25, 20.0, 31.25, 45.0, 61.25, 80.0, 101.25, 125.0, 151.25, 180.0, 211.25, 245.0, 281.25, 320.0, 361.25, 405.0, 451.25, 500.0, 551.25, 605.0, 661.25, 720.0, 781.25, 845.0, 911.25, 980.0, 1051.25, 1125.0, 1201.25, 1280.0, 1361.25, 1445.0, 1531.25, 1620.0, 1711.25, 1805.0, 1901.25, 2000.0, 2101.25, 2205.0, 2311.25, 2420.0, 2531.25, 2645.0, 2761.25, 2880.0, 3001.25, 3125.0, 3251.25, 3380.0, 3511.25, 3645.0, 3781.25, 3920.0, 4061.25, 4205.0, 4351.25, 4500.0, 4651.25, 4805.0, 4961.25, 5120.0, 5281.25, 5445.0, 5611.25, 5780.0, 5951.25, 6125.0, 6301.25, 6480.0, 6661.25, 6845.0, 7031.25, 7220.0, 7411.25, 7605.0, 7801.25, 8000.0, 8201.25, 8405.0, 8611.25, 8820.0, 9031.25, 9245.0, 9461.25, 9680.0, 9901.25, 10125.0, 10351.25, 10580.0, 10811.25, 11045.0, 11281.25, 11520.0, 11761.25, 12005.0, 12251.25, 12500.0, 12751.25, 13005.0, 13261.25, 13520.0, 13781.25, 14045.0, 14311.25, 14580.0, 14851.25, 15125.0, 15401.25, 15680.0, 15961.25, 16245.0, 16531.25, 16820.0, 17111.25, 17405.0, 17701.25, 18000.0, 18301.25, 18605.0, 18911.25, 19220.0, 19531.25, 19845.0, 20161.25, 20480.0, 20801.25, 21125.0, 21451.25, 21780.0, 22111.25, 22445.0, 22781.25, 23120.0, 23461.25, 23805.0, 24151.25, 24500.0, 24851.25, 25205.0, 25561.25, 25920.0, 26281.25, 26645.0, 27011.25, 27380.0, 27751.25, 28125.0, 28501.25, 28880.0, 29261.25, 29645.0, 30031.25, 30420.0, 30811.25, 31205.0, 31601.25, 32000.0, 32401.25, 32805.0, 33211.25, 33620.0, 34031.25, 34445.0, 34861.25, 35280.0, 35701.25, 36125.0, 36551.25, 36980.0, 37411.25, 37845.0, 38281.25, 38720.0, 39161.25, 39605.0, 40051.25, 40500.0, 40951.25, 41405.0, 41861.25, 42320.0, 42781.25, 43245.0, 43711.25, 44180.0, 44651.25, 45125.0, 45601.25, 46080.0, 46561.25, 47045.0, 47531.25, 48020.0, 48511.25, 49005.0, 49501.25, 50000.0, 50501.25]\n",
            "(202,)\n"
          ]
        }
      ]
    },
    {
      "cell_type": "code",
      "source": [
        "from matplotlib.axis import Axis\n",
        "x_len=[]\n",
        "for i in np.arange(0,101,0.5):\n",
        " x_len.append(i)\n",
        "x_len=np.array(x_len)\n",
        "print(x_len)\n",
        "print (x_len.shape)\n",
        "plt.margins(0,-0.0001)\n",
        "plt.rcParams[\"figure.figsize\"] = [7.50, 3.50]\n",
        "plt.rcParams[\"figure.autolayout\"] = True\n",
        "plt.plot(x_len, deform_1, color='Green')\n",
        "plt.title('Deformation plot of the beam : 200 elements')\n",
        "plt.xlabel('Length of the Beam')\n",
        "plt.ylabel('Deformation')\n",
        "plt.legend('Deformation Curve')\n",
        "plt.savefig('deformation_plot_150', dpi=300)"
      ],
      "metadata": {
        "colab": {
          "base_uri": "https://localhost:8080/",
          "height": 573
        },
        "id": "oWCGAe_ycF2j",
        "outputId": "a15d920e-40ac-4f62-f1f3-f4eb8baa5e41"
      },
      "execution_count": 20,
      "outputs": [
        {
          "output_type": "stream",
          "name": "stdout",
          "text": [
            "[  0.    0.5   1.    1.5   2.    2.5   3.    3.5   4.    4.5   5.    5.5\n",
            "   6.    6.5   7.    7.5   8.    8.5   9.    9.5  10.   10.5  11.   11.5\n",
            "  12.   12.5  13.   13.5  14.   14.5  15.   15.5  16.   16.5  17.   17.5\n",
            "  18.   18.5  19.   19.5  20.   20.5  21.   21.5  22.   22.5  23.   23.5\n",
            "  24.   24.5  25.   25.5  26.   26.5  27.   27.5  28.   28.5  29.   29.5\n",
            "  30.   30.5  31.   31.5  32.   32.5  33.   33.5  34.   34.5  35.   35.5\n",
            "  36.   36.5  37.   37.5  38.   38.5  39.   39.5  40.   40.5  41.   41.5\n",
            "  42.   42.5  43.   43.5  44.   44.5  45.   45.5  46.   46.5  47.   47.5\n",
            "  48.   48.5  49.   49.5  50.   50.5  51.   51.5  52.   52.5  53.   53.5\n",
            "  54.   54.5  55.   55.5  56.   56.5  57.   57.5  58.   58.5  59.   59.5\n",
            "  60.   60.5  61.   61.5  62.   62.5  63.   63.5  64.   64.5  65.   65.5\n",
            "  66.   66.5  67.   67.5  68.   68.5  69.   69.5  70.   70.5  71.   71.5\n",
            "  72.   72.5  73.   73.5  74.   74.5  75.   75.5  76.   76.5  77.   77.5\n",
            "  78.   78.5  79.   79.5  80.   80.5  81.   81.5  82.   82.5  83.   83.5\n",
            "  84.   84.5  85.   85.5  86.   86.5  87.   87.5  88.   88.5  89.   89.5\n",
            "  90.   90.5  91.   91.5  92.   92.5  93.   93.5  94.   94.5  95.   95.5\n",
            "  96.   96.5  97.   97.5  98.   98.5  99.   99.5 100.  100.5]\n",
            "(202,)\n"
          ]
        },
        {
          "output_type": "display_data",
          "data": {
            "text/plain": [
              "<Figure size 540x252 with 1 Axes>"
            ],
            "image/png": "[encoded data removed]"
          },
          "metadata": {
            "needs_background": "light"
          }
        }
      ]
    },
    {
      "cell_type": "code",
      "source": [],
      "metadata": {
        "id": "riycCsS4Lod4"
      },
      "execution_count": null,
      "outputs": []
    },
    {
      "cell_type": "code",
      "source": [],
      "metadata": {
        "id": "KWpWoZbJcHI1"
      },
      "execution_count": null,
      "outputs": []
    }
  ]
}